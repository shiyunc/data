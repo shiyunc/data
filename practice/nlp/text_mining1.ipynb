{
  "nbformat": 4,
  "nbformat_minor": 0,
  "metadata": {
    "colab": {
      "provenance": []
    },
    "kernelspec": {
      "name": "python3",
      "display_name": "Python 3"
    },
    "language_info": {
      "name": "python"
    }
  },
  "cells": [
    {
      "cell_type": "code",
      "execution_count": 1,
      "metadata": {
        "id": "fi81FStRZmhg"
      },
      "outputs": [],
      "source": [
        "import nltk"
      ]
    },
    {
      "cell_type": "code",
      "source": [
        "# punkt: a sentence tokenizer which divide text into sentences\n",
        "nltk.download('punkt')\n",
        "\n",
        "# stopwords: words that are not in use\n",
        "nltk.download('stopwords')\n",
        "\n",
        "# wordnet: English dictionary\n",
        "nltk.download('wordnet')\n",
        "\n",
        "# omw - 1.4: process words in different languages\n",
        "nltk.download('omw-1.4')\n",
        "\n",
        "# average_perception_tagger: tag word of a sentence with part of speech\n",
        "nltk.download('averaged_perception_tagger')"
      ],
      "metadata": {
        "colab": {
          "base_uri": "https://localhost:8080/"
        },
        "id": "mPdTFeAwlMbo",
        "outputId": "bd60d123-bb22-4d07-ba01-8422c486436e"
      },
      "execution_count": 2,
      "outputs": [
        {
          "output_type": "stream",
          "name": "stderr",
          "text": [
            "[nltk_data] Downloading package punkt to /root/nltk_data...\n",
            "[nltk_data]   Package punkt is already up-to-date!\n",
            "[nltk_data] Downloading package stopwords to /root/nltk_data...\n",
            "[nltk_data]   Package stopwords is already up-to-date!\n",
            "[nltk_data] Downloading package wordnet to /root/nltk_data...\n",
            "[nltk_data]   Package wordnet is already up-to-date!\n",
            "[nltk_data] Downloading package omw-1.4 to /root/nltk_data...\n",
            "[nltk_data]   Package omw-1.4 is already up-to-date!\n",
            "[nltk_data] Error loading averaged_perception_tagger: Package\n",
            "[nltk_data]     'averaged_perception_tagger' not found in index\n"
          ]
        },
        {
          "output_type": "execute_result",
          "data": {
            "text/plain": [
              "False"
            ]
          },
          "metadata": {},
          "execution_count": 2
        }
      ]
    },
    {
      "cell_type": "code",
      "source": [
        "# import sentence_tokenize from nltk\n",
        "from nltk.tokenize import sent_tokenize\n",
        "\n",
        "# example text\n",
        "text = \"2 updates from the app store? I have updated my mobile and installed the latest app, but still unable to login with my existing account. In addition, the site is down and could not access, and the link does not attach any document. There are bugs in the app and web. The site is not user friendly.\"\n",
        "\n",
        "# convert string text into sentence tokenize\n",
        "tokenize_text = sent_tokenize(text)\n",
        "tokenize_text"
      ],
      "metadata": {
        "colab": {
          "base_uri": "https://localhost:8080/"
        },
        "id": "_y2PXshclVb0",
        "outputId": "f5a76503-cb8a-4a13-8d42-7e8b684ed1d7"
      },
      "execution_count": 3,
      "outputs": [
        {
          "output_type": "execute_result",
          "data": {
            "text/plain": [
              "['2 updates from the app store?',\n",
              " 'I have updated my mobile and installed the latest app, but still unable to login with my existing account.',\n",
              " 'In addition, the site is down and could not access, and the link does not attach any document.',\n",
              " 'There are bugs in the app and web.',\n",
              " 'The site is not user friendly.']"
            ]
          },
          "metadata": {},
          "execution_count": 3
        }
      ]
    },
    {
      "cell_type": "code",
      "source": [
        "# import word_tokenize from nltk\n",
        "from nltk.tokenize import word_tokenize\n",
        "\n",
        "# example text\n",
        "text = \"2 updates from the app store? I have updated my mobile and installed the latest app, but still unable to login with my existing account. In addition, the site is down and could not access, and the link does not attach any document. There are bugs in the app and web. The site is not user friendly.\"\n",
        "\n",
        "# convert string text into word tokenize\n",
        "tokenize_word = word_tokenize(text)\n",
        "tokenize_word"
      ],
      "metadata": {
        "colab": {
          "base_uri": "https://localhost:8080/"
        },
        "id": "GFMbYn4P3pe4",
        "outputId": "62dfc3ee-246e-43e8-ff21-aeaf55355e2d"
      },
      "execution_count": 4,
      "outputs": [
        {
          "output_type": "execute_result",
          "data": {
            "text/plain": [
              "['2',\n",
              " 'updates',\n",
              " 'from',\n",
              " 'the',\n",
              " 'app',\n",
              " 'store',\n",
              " '?',\n",
              " 'I',\n",
              " 'have',\n",
              " 'updated',\n",
              " 'my',\n",
              " 'mobile',\n",
              " 'and',\n",
              " 'installed',\n",
              " 'the',\n",
              " 'latest',\n",
              " 'app',\n",
              " ',',\n",
              " 'but',\n",
              " 'still',\n",
              " 'unable',\n",
              " 'to',\n",
              " 'login',\n",
              " 'with',\n",
              " 'my',\n",
              " 'existing',\n",
              " 'account',\n",
              " '.',\n",
              " 'In',\n",
              " 'addition',\n",
              " ',',\n",
              " 'the',\n",
              " 'site',\n",
              " 'is',\n",
              " 'down',\n",
              " 'and',\n",
              " 'could',\n",
              " 'not',\n",
              " 'access',\n",
              " ',',\n",
              " 'and',\n",
              " 'the',\n",
              " 'link',\n",
              " 'does',\n",
              " 'not',\n",
              " 'attach',\n",
              " 'any',\n",
              " 'document',\n",
              " '.',\n",
              " 'There',\n",
              " 'are',\n",
              " 'bugs',\n",
              " 'in',\n",
              " 'the',\n",
              " 'app',\n",
              " 'and',\n",
              " 'web',\n",
              " '.',\n",
              " 'The',\n",
              " 'site',\n",
              " 'is',\n",
              " 'not',\n",
              " 'user',\n",
              " 'friendly',\n",
              " '.']"
            ]
          },
          "metadata": {},
          "execution_count": 4
        }
      ]
    },
    {
      "cell_type": "code",
      "source": [
        "# import word_tokenize from nltk\n",
        "from nltk.tokenize import word_tokenize\n",
        "\n",
        "# example text\n",
        "text = \"2 updates from the app store? I have updated my mobile and installed the latest app, but still unable to login with my existing account. In addition, the site is down and could not access, and the link does not attach any document. There are bugs in the app and web. The site is not user friendly.\"\n",
        "\n",
        "# convert string text into word tokenize\n",
        "tokenize_word = word_tokenize(text)\n",
        "tokenize_word\n",
        "\n",
        "# find word frequency distribution\n",
        "from nltk.probability import FreqDist\n",
        "frequency_distribution = FreqDist(tokenize_word)\n",
        "frequency_distribution"
      ],
      "metadata": {
        "colab": {
          "base_uri": "https://localhost:8080/"
        },
        "id": "znXIgeGZ8EIw",
        "outputId": "4fbde9e9-babc-45c8-97f5-007eed8c09f0"
      },
      "execution_count": 5,
      "outputs": [
        {
          "output_type": "execute_result",
          "data": {
            "text/plain": [
              "FreqDist({'the': 5, 'and': 4, '.': 4, 'app': 3, ',': 3, 'not': 3, 'my': 2, 'site': 2, 'is': 2, '2': 1, ...})"
            ]
          },
          "metadata": {},
          "execution_count": 5
        }
      ]
    },
    {
      "cell_type": "code",
      "source": [
        "# find frequency of top 3 words\n",
        "frequency_distribution1 = frequency_distribution.most_common(3)\n",
        "frequency_distribution1"
      ],
      "metadata": {
        "colab": {
          "base_uri": "https://localhost:8080/"
        },
        "id": "3zwHIYVM_yFv",
        "outputId": "1ebdbeb3-9d1b-4209-c81b-ef539fd52a8e"
      },
      "execution_count": 6,
      "outputs": [
        {
          "output_type": "execute_result",
          "data": {
            "text/plain": [
              "[('the', 5), ('and', 4), ('.', 4)]"
            ]
          },
          "metadata": {},
          "execution_count": 6
        }
      ]
    },
    {
      "cell_type": "code",
      "source": [
        "# import library\n",
        "import matplotlib.pyplot as plt\n",
        "\n",
        "# plot chart\n",
        "frequency_distribution.plot(20, cumulative=False)\n",
        "plt.show()"
      ],
      "metadata": {
        "colab": {
          "base_uri": "https://localhost:8080/",
          "height": 494
        },
        "id": "dmAxZ2dXA5Nj",
        "outputId": "256861b9-7a04-4655-e27a-43814c3b6271"
      },
      "execution_count": 7,
      "outputs": [
        {
          "output_type": "display_data",
          "data": {
            "text/plain": [
              "<Figure size 640x480 with 1 Axes>"
            ],
            "image/png": "[encoded data removed]"
          },
          "metadata": {}
        }
      ]
    },
    {
      "cell_type": "code",
      "source": [
        "# import sentence_tokenize from nltk\n",
        "from nltk.tokenize import sent_tokenize\n",
        "# import word_tokenize from nltk\n",
        "from nltk.tokenize import word_tokenize\n",
        "# import stopwords from nltk\n",
        "from nltk.corpus import stopwords\n",
        "\n",
        "# example text\n",
        "text = \"2 updates from the app store? I have updated my mobile and installed the latest app, but still unable to login with my existing account. In addition, the site is down and could not access, and the link does not attach any document. There are bugs in the app and web. The site is not user friendly.\"\n",
        "stop_words = set(stopwords.words(\"english\"))\n",
        "stop_words"
      ],
      "metadata": {
        "colab": {
          "base_uri": "https://localhost:8080/"
        },
        "id": "G4HSc4s-FHOv",
        "outputId": "1450f708-5dae-4f77-eeb3-267f986f9418"
      },
      "execution_count": 8,
      "outputs": [
        {
          "output_type": "execute_result",
          "data": {
            "text/plain": [
              "{'a',\n",
              " 'about',\n",
              " 'above',\n",
              " 'after',\n",
              " 'again',\n",
              " 'against',\n",
              " 'ain',\n",
              " 'all',\n",
              " 'am',\n",
              " 'an',\n",
              " 'and',\n",
              " 'any',\n",
              " 'are',\n",
              " 'aren',\n",
              " \"aren't\",\n",
              " 'as',\n",
              " 'at',\n",
              " 'be',\n",
              " 'because',\n",
              " 'been',\n",
              " 'before',\n",
              " 'being',\n",
              " 'below',\n",
              " 'between',\n",
              " 'both',\n",
              " 'but',\n",
              " 'by',\n",
              " 'can',\n",
              " 'couldn',\n",
              " \"couldn't\",\n",
              " 'd',\n",
              " 'did',\n",
              " 'didn',\n",
              " \"didn't\",\n",
              " 'do',\n",
              " 'does',\n",
              " 'doesn',\n",
              " \"doesn't\",\n",
              " 'doing',\n",
              " 'don',\n",
              " \"don't\",\n",
              " 'down',\n",
              " 'during',\n",
              " 'each',\n",
              " 'few',\n",
              " 'for',\n",
              " 'from',\n",
              " 'further',\n",
              " 'had',\n",
              " 'hadn',\n",
              " \"hadn't\",\n",
              " 'has',\n",
              " 'hasn',\n",
              " \"hasn't\",\n",
              " 'have',\n",
              " 'haven',\n",
              " \"haven't\",\n",
              " 'having',\n",
              " 'he',\n",
              " 'her',\n",
              " 'here',\n",
              " 'hers',\n",
              " 'herself',\n",
              " 'him',\n",
              " 'himself',\n",
              " 'his',\n",
              " 'how',\n",
              " 'i',\n",
              " 'if',\n",
              " 'in',\n",
              " 'into',\n",
              " 'is',\n",
              " 'isn',\n",
              " \"isn't\",\n",
              " 'it',\n",
              " \"it's\",\n",
              " 'its',\n",
              " 'itself',\n",
              " 'just',\n",
              " 'll',\n",
              " 'm',\n",
              " 'ma',\n",
              " 'me',\n",
              " 'mightn',\n",
              " \"mightn't\",\n",
              " 'more',\n",
              " 'most',\n",
              " 'mustn',\n",
              " \"mustn't\",\n",
              " 'my',\n",
              " 'myself',\n",
              " 'needn',\n",
              " \"needn't\",\n",
              " 'no',\n",
              " 'nor',\n",
              " 'not',\n",
              " 'now',\n",
              " 'o',\n",
              " 'of',\n",
              " 'off',\n",
              " 'on',\n",
              " 'once',\n",
              " 'only',\n",
              " 'or',\n",
              " 'other',\n",
              " 'our',\n",
              " 'ours',\n",
              " 'ourselves',\n",
              " 'out',\n",
              " 'over',\n",
              " 'own',\n",
              " 're',\n",
              " 's',\n",
              " 'same',\n",
              " 'shan',\n",
              " \"shan't\",\n",
              " 'she',\n",
              " \"she's\",\n",
              " 'should',\n",
              " \"should've\",\n",
              " 'shouldn',\n",
              " \"shouldn't\",\n",
              " 'so',\n",
              " 'some',\n",
              " 'such',\n",
              " 't',\n",
              " 'than',\n",
              " 'that',\n",
              " \"that'll\",\n",
              " 'the',\n",
              " 'their',\n",
              " 'theirs',\n",
              " 'them',\n",
              " 'themselves',\n",
              " 'then',\n",
              " 'there',\n",
              " 'these',\n",
              " 'they',\n",
              " 'this',\n",
              " 'those',\n",
              " 'through',\n",
              " 'to',\n",
              " 'too',\n",
              " 'under',\n",
              " 'until',\n",
              " 'up',\n",
              " 've',\n",
              " 'very',\n",
              " 'was',\n",
              " 'wasn',\n",
              " \"wasn't\",\n",
              " 'we',\n",
              " 'were',\n",
              " 'weren',\n",
              " \"weren't\",\n",
              " 'what',\n",
              " 'when',\n",
              " 'where',\n",
              " 'which',\n",
              " 'while',\n",
              " 'who',\n",
              " 'whom',\n",
              " 'why',\n",
              " 'will',\n",
              " 'with',\n",
              " 'won',\n",
              " \"won't\",\n",
              " 'wouldn',\n",
              " \"wouldn't\",\n",
              " 'y',\n",
              " 'you',\n",
              " \"you'd\",\n",
              " \"you'll\",\n",
              " \"you're\",\n",
              " \"you've\",\n",
              " 'your',\n",
              " 'yours',\n",
              " 'yourself',\n",
              " 'yourselves'}"
            ]
          },
          "metadata": {},
          "execution_count": 8
        }
      ]
    },
    {
      "cell_type": "code",
      "source": [
        "filtered_sent = []\n",
        "for word in tokenize_text:\n",
        "  if word not in stop_words:\n",
        "    filtered_sent.append(word)\n",
        "print(\"Tokenized sentence\", tokenize_text)\n",
        "print(\"Filtered sentence\", filtered_sent)\n",
        "\n",
        "print(\"Tokenized word:\", tokenize_word)\n",
        "print(\"Filtered word:\", filtered_sent)"
      ],
      "metadata": {
        "colab": {
          "base_uri": "https://localhost:8080/"
        },
        "id": "1CXe7iOOPiMN",
        "outputId": "e9820707-80c7-4d31-a33b-795e188c7ce5"
      },
      "execution_count": 9,
      "outputs": [
        {
          "output_type": "stream",
          "name": "stdout",
          "text": [
            "Tokenized sentence ['2 updates from the app store?', 'I have updated my mobile and installed the latest app, but still unable to login with my existing account.', 'In addition, the site is down and could not access, and the link does not attach any document.', 'There are bugs in the app and web.', 'The site is not user friendly.']\n",
            "Filtered sentence ['2 updates from the app store?', 'I have updated my mobile and installed the latest app, but still unable to login with my existing account.', 'In addition, the site is down and could not access, and the link does not attach any document.', 'There are bugs in the app and web.', 'The site is not user friendly.']\n",
            "Tokenized word: ['2', 'updates', 'from', 'the', 'app', 'store', '?', 'I', 'have', 'updated', 'my', 'mobile', 'and', 'installed', 'the', 'latest', 'app', ',', 'but', 'still', 'unable', 'to', 'login', 'with', 'my', 'existing', 'account', '.', 'In', 'addition', ',', 'the', 'site', 'is', 'down', 'and', 'could', 'not', 'access', ',', 'and', 'the', 'link', 'does', 'not', 'attach', 'any', 'document', '.', 'There', 'are', 'bugs', 'in', 'the', 'app', 'and', 'web', '.', 'The', 'site', 'is', 'not', 'user', 'friendly', '.']\n",
            "Filtered word: ['2 updates from the app store?', 'I have updated my mobile and installed the latest app, but still unable to login with my existing account.', 'In addition, the site is down and could not access, and the link does not attach any document.', 'There are bugs in the app and web.', 'The site is not user friendly.']\n"
          ]
        }
      ]
    },
    {
      "cell_type": "code",
      "source": [
        "# import Porterstemmer from nltk\n",
        "from nltk.stem import PorterStemmer\n",
        "# import word_tokenize from nltk\n",
        "from nltk.tokenize import word_tokenize\n",
        "\n",
        "ps = PorterStemmer()\n",
        "\n",
        "# words to be stemmed\n",
        "words = [\"edit\", \"edits\", \"editing\", \"edited\"]\n",
        "\n",
        "for word in words:\n",
        "    print(word, \" : \", ps.stem(word))"
      ],
      "metadata": {
        "id": "kwGuwhutcti5",
        "colab": {
          "base_uri": "https://localhost:8080/"
        },
        "outputId": "846fcefc-1ea4-4359-fbc4-eaea8144b7fb"
      },
      "execution_count": 10,
      "outputs": [
        {
          "output_type": "stream",
          "name": "stdout",
          "text": [
            "edit  :  edit\n",
            "edits  :  edit\n",
            "editing  :  edit\n",
            "edited  :  edit\n"
          ]
        }
      ]
    },
    {
      "cell_type": "code",
      "source": [
        "# import Porterstemmer from nltk\n",
        "from nltk.stem import PorterStemmer\n",
        "# import Lemmatizer from nltk\n",
        "from nltk.stem import WordNetLemmatizer\n",
        "\n",
        "ps = PorterStemmer()\n",
        "\n",
        "lemmatizer = WordNetLemmatizer()\n",
        "\n",
        "word = \"updating\"\n",
        "print(\"Lemmatized word:\", lemmatizer.lemmatize(word, \"v\"))\n",
        "print(\"Stemmed word:\", ps.stem(word))"
      ],
      "metadata": {
        "colab": {
          "base_uri": "https://localhost:8080/"
        },
        "id": "kcj-oyNKdwtR",
        "outputId": "122c0b56-f228-41f8-a6b3-18460a4c643d"
      },
      "execution_count": 11,
      "outputs": [
        {
          "output_type": "stream",
          "name": "stdout",
          "text": [
            "Lemmatized word: update\n",
            "Stemmed word: updat\n"
          ]
        }
      ]
    }
  ]
}